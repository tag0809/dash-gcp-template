{
 "cells": [
  {
   "cell_type": "code",
   "execution_count": 2,
   "metadata": {},
   "outputs": [],
   "source": [
    "import pandas as pd\n",
    "import os\n",
    "import matplotlib.pyplot as plt\n",
    "import numpy as np\n",
    "import seaborn as sns\n",
    "%matplotlib inline"
   ]
  },
  {
   "cell_type": "code",
   "execution_count": 3,
   "metadata": {},
   "outputs": [
    {
     "name": "stderr",
     "output_type": "stream",
     "text": [
      "C:\\Users\\e707088\\AppData\\Local\\Temp\\ipykernel_27760\\2903414231.py:4: DtypeWarning: Columns (13,15,16,18,32,34,36,37,41,45,46,55,71,83,84,86,87,90,91,92,96,98,100,101,103,104,105,106,107,108,109) have mixed types. Specify dtype option on import or set low_memory=False.\n",
      "  df = pd.read_csv(data)\n"
     ]
    }
   ],
   "source": [
    "path = r'C:\\Users\\e707088\\Downloads'\n",
    "file_name = 'Customer Sentiment Data.csv'\n",
    "data = os.path.join(path, file_name)\n",
    "df = pd.read_csv(data)\n"
   ]
  },
  {
   "cell_type": "code",
   "execution_count": 4,
   "metadata": {},
   "outputs": [],
   "source": [
    "df = df.drop(['CASEID', 'YYYYQ', 'YYYYMM'], axis=1)\n",
    "s = df.corr().abs().unstack()"
   ]
  },
  {
   "cell_type": "code",
   "execution_count": 5,
   "metadata": {},
   "outputs": [
    {
     "data": {
      "text/plain": [
       "YYYY     YYYY       1.000000\n",
       "NEWS1    NEWS1      1.000000\n",
       "ICC      ICC        1.000000\n",
       "ICE      ICE        1.000000\n",
       "PAGO     PAGO       1.000000\n",
       "                      ...   \n",
       "HOM      NEWS2      0.000341\n",
       "HOMEAMT  WT         0.000234\n",
       "WT       HOMEAMT    0.000234\n",
       "         UNEMP      0.000108\n",
       "UNEMP    WT         0.000108\n",
       "Length: 784, dtype: float64"
      ]
     },
     "execution_count": 5,
     "metadata": {},
     "output_type": "execute_result"
    }
   ],
   "source": [
    "s.sort_values(kind='quicksort', ascending=False)"
   ]
  },
  {
   "cell_type": "code",
   "execution_count": 6,
   "metadata": {},
   "outputs": [],
   "source": [
    "s = s[s != 1]"
   ]
  },
  {
   "cell_type": "code",
   "execution_count": 7,
   "metadata": {},
   "outputs": [
    {
     "data": {
      "text/plain": [
       "YYYY     INCQFM     0.686135\n",
       "         HOMEAMT    0.622158\n",
       "         INVAMT     0.543287\n",
       "ICS      ICC        0.737843\n",
       "         ICE        0.887851\n",
       "         PAGO       0.580157\n",
       "         PEXP       0.476560\n",
       "         RINC       0.372532\n",
       "         BAGO       0.461268\n",
       "         BEXP       0.415927\n",
       "         BUS12      0.565783\n",
       "         UNEMP      0.360062\n",
       "         GOVT       0.387231\n",
       "         DUR        0.455548\n",
       "ICC      ICS        0.737843\n",
       "         PAGO       0.747411\n",
       "         PAGOR1     0.403850\n",
       "         DUR        0.651478\n",
       "ICE      ICS        0.887851\n",
       "         PEXP       0.510480\n",
       "         BAGO       0.434341\n",
       "         BEXP       0.469593\n",
       "         BUS12      0.619308\n",
       "         UNEMP      0.396950\n",
       "         GOVT       0.384121\n",
       "PAGO     ICS        0.580157\n",
       "         ICC        0.747411\n",
       "         PAGOR1     0.552050\n",
       "PAGOR1   ICC        0.403850\n",
       "         PAGO       0.552050\n",
       "PEXP     ICS        0.476560\n",
       "         ICE        0.510480\n",
       "RINC     ICS        0.372532\n",
       "BAGO     ICS        0.461268\n",
       "         ICE        0.434341\n",
       "         BUS12      0.355867\n",
       "BEXP     ICS        0.415927\n",
       "         ICE        0.469593\n",
       "BUS12    ICS        0.565783\n",
       "         ICE        0.619308\n",
       "         BAGO       0.355867\n",
       "NEWS1    NEWS2      0.474157\n",
       "NEWS2    NEWS1      0.474157\n",
       "UNEMP    ICS        0.360062\n",
       "         ICE        0.396950\n",
       "GOVT     ICS        0.387231\n",
       "         ICE        0.384121\n",
       "DUR      ICS        0.455548\n",
       "         ICC        0.651478\n",
       "INCQFM   YYYY       0.686135\n",
       "         HOMEAMT    0.366752\n",
       "         INVAMT     0.382980\n",
       "HOMEAMT  YYYY       0.622158\n",
       "         INCQFM     0.366752\n",
       "         INVAMT     0.475669\n",
       "INVAMT   YYYY       0.543287\n",
       "         INCQFM     0.382980\n",
       "         HOMEAMT    0.475669\n",
       "dtype: float64"
      ]
     },
     "execution_count": 7,
     "metadata": {},
     "output_type": "execute_result"
    }
   ],
   "source": [
    "s[s > .35]"
   ]
  },
  {
   "cell_type": "code",
   "execution_count": 8,
   "metadata": {},
   "outputs": [],
   "source": [
    "df_ml = df[['YYYY', 'ICS', 'PAGO']]"
   ]
  },
  {
   "cell_type": "code",
   "execution_count": 9,
   "metadata": {},
   "outputs": [
    {
     "data": {
      "text/plain": [
       "Index(['YYYY', 'ICS', 'PAGO'], dtype='object')"
      ]
     },
     "execution_count": 9,
     "metadata": {},
     "output_type": "execute_result"
    }
   ],
   "source": [
    "df_ml.columns"
   ]
  },
  {
   "cell_type": "code",
   "execution_count": 10,
   "metadata": {},
   "outputs": [
    {
     "data": {
      "text/plain": [
       "pandas.core.frame.DataFrame"
      ]
     },
     "execution_count": 10,
     "metadata": {},
     "output_type": "execute_result"
    }
   ],
   "source": [
    "type(df_ml)"
   ]
  },
  {
   "cell_type": "code",
   "execution_count": 11,
   "metadata": {},
   "outputs": [
    {
     "data": {
      "text/plain": [
       "YYYY      int64\n",
       "ICS     float64\n",
       "PAGO      int64\n",
       "dtype: object"
      ]
     },
     "execution_count": 11,
     "metadata": {},
     "output_type": "execute_result"
    }
   ],
   "source": [
    "df_ml.dtypes"
   ]
  },
  {
   "cell_type": "code",
   "execution_count": 12,
   "metadata": {},
   "outputs": [
    {
     "data": {
      "text/html": [
       "<div>\n",
       "<style scoped>\n",
       "    .dataframe tbody tr th:only-of-type {\n",
       "        vertical-align: middle;\n",
       "    }\n",
       "\n",
       "    .dataframe tbody tr th {\n",
       "        vertical-align: top;\n",
       "    }\n",
       "\n",
       "    .dataframe thead th {\n",
       "        text-align: right;\n",
       "    }\n",
       "</style>\n",
       "<table border=\"1\" class=\"dataframe\">\n",
       "  <thead>\n",
       "    <tr style=\"text-align: right;\">\n",
       "      <th></th>\n",
       "      <th>YYYY</th>\n",
       "      <th>ICS</th>\n",
       "      <th>PAGO</th>\n",
       "    </tr>\n",
       "  </thead>\n",
       "  <tbody>\n",
       "    <tr>\n",
       "      <th>YYYY</th>\n",
       "      <td>1.000000</td>\n",
       "      <td>0.007334</td>\n",
       "      <td>-0.009121</td>\n",
       "    </tr>\n",
       "    <tr>\n",
       "      <th>ICS</th>\n",
       "      <td>0.007334</td>\n",
       "      <td>1.000000</td>\n",
       "      <td>-0.580157</td>\n",
       "    </tr>\n",
       "    <tr>\n",
       "      <th>PAGO</th>\n",
       "      <td>-0.009121</td>\n",
       "      <td>-0.580157</td>\n",
       "      <td>1.000000</td>\n",
       "    </tr>\n",
       "  </tbody>\n",
       "</table>\n",
       "</div>"
      ],
      "text/plain": [
       "          YYYY       ICS      PAGO\n",
       "YYYY  1.000000  0.007334 -0.009121\n",
       "ICS   0.007334  1.000000 -0.580157\n",
       "PAGO -0.009121 -0.580157  1.000000"
      ]
     },
     "execution_count": 12,
     "metadata": {},
     "output_type": "execute_result"
    }
   ],
   "source": [
    "df_ml.corr()"
   ]
  },
  {
   "cell_type": "code",
   "execution_count": 13,
   "metadata": {},
   "outputs": [],
   "source": [
    "import pandas as pd\n",
    "from sklearn.model_selection import train_test_split\n",
    "from sklearn.linear_model import LinearRegression\n",
    "from sklearn.ensemble import RandomForestRegressor\n",
    "from xgboost import XGBRegressor\n",
    "from sklearn.metrics import mean_squared_error\n",
    "import xgboost as xgb"
   ]
  },
  {
   "cell_type": "code",
   "execution_count": 14,
   "metadata": {},
   "outputs": [
    {
     "data": {
      "text/html": [
       "<div>\n",
       "<style scoped>\n",
       "    .dataframe tbody tr th:only-of-type {\n",
       "        vertical-align: middle;\n",
       "    }\n",
       "\n",
       "    .dataframe tbody tr th {\n",
       "        vertical-align: top;\n",
       "    }\n",
       "\n",
       "    .dataframe thead th {\n",
       "        text-align: right;\n",
       "    }\n",
       "</style>\n",
       "<table border=\"1\" class=\"dataframe\">\n",
       "  <thead>\n",
       "    <tr style=\"text-align: right;\">\n",
       "      <th></th>\n",
       "      <th>YYYY</th>\n",
       "      <th>PAGO</th>\n",
       "    </tr>\n",
       "  </thead>\n",
       "  <tbody>\n",
       "    <tr>\n",
       "      <th>0</th>\n",
       "      <td>1978</td>\n",
       "      <td>3</td>\n",
       "    </tr>\n",
       "    <tr>\n",
       "      <th>1</th>\n",
       "      <td>1978</td>\n",
       "      <td>1</td>\n",
       "    </tr>\n",
       "    <tr>\n",
       "      <th>2</th>\n",
       "      <td>1978</td>\n",
       "      <td>5</td>\n",
       "    </tr>\n",
       "    <tr>\n",
       "      <th>3</th>\n",
       "      <td>1978</td>\n",
       "      <td>1</td>\n",
       "    </tr>\n",
       "    <tr>\n",
       "      <th>4</th>\n",
       "      <td>1978</td>\n",
       "      <td>3</td>\n",
       "    </tr>\n",
       "  </tbody>\n",
       "</table>\n",
       "</div>"
      ],
      "text/plain": [
       "   YYYY  PAGO\n",
       "0  1978     3\n",
       "1  1978     1\n",
       "2  1978     5\n",
       "3  1978     1\n",
       "4  1978     3"
      ]
     },
     "execution_count": 14,
     "metadata": {},
     "output_type": "execute_result"
    }
   ],
   "source": [
    "X = df_ml[['YYYY', 'PAGO']]\n",
    "y = df_ml['ICS']\n",
    "X.head()"
   ]
  },
  {
   "cell_type": "code",
   "execution_count": 15,
   "metadata": {},
   "outputs": [],
   "source": [
    "X_train, X_test, y_train, y_test = train_test_split(X, y, test_size=0.2, random_state=42)"
   ]
  },
  {
   "cell_type": "code",
   "execution_count": 16,
   "metadata": {},
   "outputs": [
    {
     "name": "stdout",
     "output_type": "stream",
     "text": [
      "Linear regression MSE: 996.4278681392475\n",
      "Random forest MSE: 901.6091171712101\n",
      "XGBoost MSE: 901.5855865187671\n"
     ]
    }
   ],
   "source": [
    "# Fit a linear regression model\n",
    "linear_model = LinearRegression()\n",
    "linear_model.fit(X_train, y_train)\n",
    "linear_pred = linear_model.predict(X_test)\n",
    "\n",
    "# Fit a random forest model\n",
    "rf_model = RandomForestRegressor(n_estimators=100, random_state=42)\n",
    "rf_model.fit(X_train, y_train)\n",
    "rf_pred = rf_model.predict(X_test)\n",
    "\n",
    "# Fit an XGBoost model\n",
    "xgb_model = XGBRegressor(n_estimators=100, random_state=42)\n",
    "xgb_model.fit(X_train, y_train)\n",
    "xgb_pred = xgb_model.predict(X_test)\n",
    "\n",
    "# Calculate mean squared error for each model\n",
    "linear_mse = mean_squared_error(y_test, linear_pred)\n",
    "rf_mse = mean_squared_error(y_test, rf_pred)\n",
    "xgb_mse = mean_squared_error(y_test, xgb_pred)\n",
    "\n",
    "# Print the results\n",
    "print(f\"Linear regression MSE: {linear_mse}\")\n",
    "print(f\"Random forest MSE: {rf_mse}\")\n",
    "print(f\"XGBoost MSE: {xgb_mse}\")"
   ]
  },
  {
   "cell_type": "code",
   "execution_count": 38,
   "metadata": {},
   "outputs": [
    {
     "data": {
      "text/plain": [
       "10368     41.196250\n",
       "162240    40.407749\n",
       "82479     19.278292\n",
       "266151    10.739361\n",
       "106659    52.062100\n",
       "            ...    \n",
       "119879    34.054155\n",
       "259178    40.343384\n",
       "131932    25.627863\n",
       "146867    63.648064\n",
       "121958   -18.774092\n",
       "Name: ICS, Length: 248259, dtype: float64"
      ]
     },
     "execution_count": 38,
     "metadata": {},
     "output_type": "execute_result"
    }
   ],
   "source": [
    "y_pred = linear_model.predict(X_train)\n",
    "residuals = y_train - y_pred\n",
    "residuals"
   ]
  },
  {
   "cell_type": "code",
   "execution_count": 18,
   "metadata": {},
   "outputs": [
    {
     "data": {
      "text/plain": [
       "-2.567732508567416e-14"
      ]
     },
     "execution_count": 18,
     "metadata": {},
     "output_type": "execute_result"
    }
   ],
   "source": [
    "sum(residuals)/len(residuals) # mean residual"
   ]
  },
  {
   "cell_type": "code",
   "execution_count": 19,
   "metadata": {},
   "outputs": [
    {
     "data": {
      "text/plain": [
       "(131.33263056439162, -78.10477519806582)"
      ]
     },
     "execution_count": 19,
     "metadata": {},
     "output_type": "execute_result"
    }
   ],
   "source": [
    "max(residuals), min(residuals)"
   ]
  },
  {
   "cell_type": "code",
   "execution_count": 20,
   "metadata": {},
   "outputs": [
    {
     "data": {
      "image/png": "[encoded data removed]",
      "text/plain": [
       "<Figure size 432x288 with 1 Axes>"
      ]
     },
     "metadata": {
      "needs_background": "light"
     },
     "output_type": "display_data"
    }
   ],
   "source": [
    "import matplotlib.pyplot as plt\n",
    "plt.scatter(y_train, residuals)\n",
    "plt.xlabel('Actual Values')\n",
    "plt.ylabel('Residuals')\n",
    "plt.show()"
   ]
  },
  {
   "cell_type": "code",
   "execution_count": 29,
   "metadata": {},
   "outputs": [
    {
     "data": {
      "text/plain": [
       "<AxesSubplot:xlabel='ICS'>"
      ]
     },
     "execution_count": 29,
     "metadata": {},
     "output_type": "execute_result"
    },
    {
     "data": {
      "image/png": "[encoded data removed]",
      "text/plain": [
       "<Figure size 432x288 with 1 Axes>"
      ]
     },
     "metadata": {
      "needs_background": "light"
     },
     "output_type": "display_data"
    }
   ],
   "source": [
    "sns.regplot(y_test, linear_pred, scatter_kws={'color':'green'}, line_kws={'color':'blue'})"
   ]
  },
  {
   "cell_type": "code",
   "execution_count": 35,
   "metadata": {},
   "outputs": [],
   "source": [
    "features = np.array([[2025, 5]])"
   ]
  },
  {
   "cell_type": "code",
   "execution_count": 39,
   "metadata": {},
   "outputs": [
    {
     "data": {
      "text/plain": [
       "array([37.656822], dtype=float32)"
      ]
     },
     "execution_count": 39,
     "metadata": {},
     "output_type": "execute_result"
    }
   ],
   "source": [
    "xgb_model.predict(features)"
   ]
  },
  {
   "cell_type": "code",
   "execution_count": null,
   "metadata": {},
   "outputs": [],
   "source": []
  }
 ],
 "metadata": {
  "kernelspec": {
   "display_name": "base",
   "language": "python",
   "name": "python3"
  },
  "language_info": {
   "codemirror_mode": {
    "name": "ipython",
    "version": 3
   },
   "file_extension": ".py",
   "mimetype": "text/x-python",
   "name": "python",
   "nbconvert_exporter": "python",
   "pygments_lexer": "ipython3",
   "version": "3.9.12"
  },
  "orig_nbformat": 4
 },
 "nbformat": 4,
 "nbformat_minor": 2
}
